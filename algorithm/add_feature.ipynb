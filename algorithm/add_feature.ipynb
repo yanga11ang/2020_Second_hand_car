{
 "cells": [
  {
   "cell_type": "code",
   "execution_count": 2,
   "metadata": {},
   "outputs": [
    {
     "name": "stderr",
     "output_type": "stream",
     "text": [
      "D:\\Anaconda3\\lib\\site-packages\\ipykernel_launcher.py:8: FutureWarning: Sorting because non-concatenation axis is not aligned. A future version\n",
      "of pandas will change to not sort by default.\n",
      "\n",
      "To accept the future behavior, pass 'sort=False'.\n",
      "\n",
      "To retain the current behavior and silence the warning, pass 'sort=True'.\n",
      "\n",
      "  \n"
     ]
    }
   ],
   "source": [
    "import pandas as pd\n",
    "import numpy as np\n",
    "import torch\n",
    "import torch.nn as nn\n",
    "\n",
    "train = pd.read_csv(\"../data/used_car_train_20200313.csv\")\n",
    "test = pd.read_csv(\"../data/used_car_testA_20200313.csv\")\n",
    "database = pd.concat([train,test],keys=[\"train\",\"test\"])\n",
    "# print(database.info())"
   ]
  },
  {
   "cell_type": "code",
   "execution_count": 7,
   "metadata": {},
   "outputs": [
    {
     "name": "stdout",
     "output_type": "stream",
     "text": [
      "20160404.0\n",
      "307\n"
     ]
    }
   ],
   "source": [
    "print(database.loc['train'].loc[0]['creatDate'])\n",
    "import datetime\n",
    "time_a = datetime.datetime.strptime(\"20160404\",\"%Y%m%d\")\n",
    "time_b = datetime.datetime.strptime(\"20170205\",\"%Y%m%d\")\n",
    "print((time_b-time_a).days)\n",
    "#get operate_time\n",
    "# database[\"operate_time\"] = \n",
    "operate_time = []\n",
    "for row in database.itertuples():\n",
    "#     print(item)\n",
    "    regDate = str(getattr(row,'regDate') )\n",
    "    if regDate[4:6] == \"00\":\n",
    "        regDate=regDate[:5]+'1'+regDate[6:]\n",
    "    creatDate = str(getattr(row,'creatDate'))\n",
    "    if creatDate[4:6] == \"00\":\n",
    "        creatDate=creatDate[:5]+'1'+creatDate[6:]\n",
    "    operate_time.append((datetime.datetime.strptime(creatDate,\"%Y%m%d\") - datetime.datetime.strptime(regDate,\"%Y%m%d\")).days)\n"
   ]
  },
  {
   "cell_type": "code",
   "execution_count": 13,
   "metadata": {},
   "outputs": [
    {
     "name": "stdout",
     "output_type": "stream",
     "text": [
      "         SaleID  bodyType  brand  creatDate  fuelType  gearbox  kilometer  \\\n",
      "train 0       0       1.0      6   20160404       0.0      0.0       12.5   \n",
      "      1       1       2.0      1   20160309       0.0      0.0       15.0   \n",
      "      2       2       1.0     15   20160402       0.0      0.0       12.5   \n",
      "      3       3       0.0     10   20160312       0.0      1.0       15.0   \n",
      "      4       4       1.0      5   20160313       0.0      0.0        5.0   \n",
      "\n",
      "         model    name  notRepairedDamage      ...           v_14       v_2  \\\n",
      "train 0   30.0     736                0.0      ...       0.914762  0.050257   \n",
      "      1   40.0    2262                NaN      ...       0.245522  0.137925   \n",
      "      2  115.0   14874                0.0      ...      -0.229963  1.319524   \n",
      "      3  109.0   71865                0.0      ...      -0.478699 -0.050616   \n",
      "      4  110.0  111080                0.0      ...       1.923482  0.572169   \n",
      "\n",
      "              v_3       v_4       v_5       v_6       v_7       v_8       v_9  \\\n",
      "train 0  2.159744  1.143786  0.235676  0.101988  0.129549  0.022816  0.097462   \n",
      "      1  1.380657 -1.422165  0.264777  0.121004  0.135731  0.026597  0.020582   \n",
      "      2 -0.998467 -0.996911  0.251410  0.114912  0.165147  0.062173  0.027075   \n",
      "      3  0.883600 -2.228079  0.274293  0.110300  0.121964  0.033395  0.000000   \n",
      "      4 -1.571239  2.246088  0.228036  0.073205  0.091880  0.078819  0.121534   \n",
      "\n",
      "         operate_time  \n",
      "train 0          4385  \n",
      "      1          4757  \n",
      "      2          4382  \n",
      "      3          7125  \n",
      "      4          1531  \n",
      "\n",
      "[5 rows x 32 columns]\n"
     ]
    }
   ],
   "source": [
    "# operate_time:\n",
    "database['operate_time']=operate_time\n",
    "for i in operate_time:\n",
    "    if i<0:\n",
    "        print(i)\n",
    "print(database.head())\n",
    "train_1 = database.loc['train']\n",
    "test_1 = database.loc['test']\n",
    "train_1.to_csv(\"../data/train_1.csv\")\n",
    "test_1.to_csv('../data/test_1.csv')"
   ]
  },
  {
   "cell_type": "code",
   "execution_count": null,
   "metadata": {},
   "outputs": [],
   "source": []
  }
 ],
 "metadata": {
  "kernelspec": {
   "display_name": "Python 3",
   "language": "python",
   "name": "python3"
  },
  "language_info": {
   "codemirror_mode": {
    "name": "ipython",
    "version": 3
   },
   "file_extension": ".py",
   "mimetype": "text/x-python",
   "name": "python",
   "nbconvert_exporter": "python",
   "pygments_lexer": "ipython3",
   "version": "3.7.0"
  }
 },
 "nbformat": 4,
 "nbformat_minor": 2
}
